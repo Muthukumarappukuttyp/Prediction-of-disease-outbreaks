{
  "cells": [
    {
      "cell_type": "code",
      "execution_count": 2,
      "metadata": {},
      "outputs": [
        {
          "name": "stdout",
          "output_type": "stream",
          "text": [
            "Collecting streamlit\n",
            "  Downloading streamlit-1.42.0-py2.py3-none-any.whl.metadata (8.9 kB)\n",
            "Collecting altair<6,>=4.0 (from streamlit)\n",
            "  Downloading altair-5.5.0-py3-none-any.whl.metadata (11 kB)\n",
            "Requirement already satisfied: blinker<2,>=1.0.0 in c:\\users\\muthukumar\\appdata\\local\\programs\\python\\python311\\lib\\site-packages (from streamlit) (1.9.0)\n",
            "Requirement already satisfied: cachetools<6,>=4.0 in c:\\users\\muthukumar\\appdata\\local\\programs\\python\\python311\\lib\\site-packages (from streamlit) (5.5.1)\n",
            "Requirement already satisfied: click<9,>=7.0 in c:\\users\\muthukumar\\appdata\\local\\programs\\python\\python311\\lib\\site-packages (from streamlit) (8.1.8)\n",
            "Requirement already satisfied: numpy<3,>=1.23 in c:\\users\\muthukumar\\appdata\\local\\programs\\python\\python311\\lib\\site-packages (from streamlit) (1.26.4)\n",
            "Requirement already satisfied: packaging<25,>=20 in c:\\users\\muthukumar\\appdata\\local\\programs\\python\\python311\\lib\\site-packages (from streamlit) (24.0)\n",
            "Requirement already satisfied: pandas<3,>=1.4.0 in c:\\users\\muthukumar\\appdata\\local\\programs\\python\\python311\\lib\\site-packages (from streamlit) (2.2.2)\n",
            "Requirement already satisfied: pillow<12,>=7.1.0 in c:\\users\\muthukumar\\appdata\\local\\programs\\python\\python311\\lib\\site-packages (from streamlit) (10.3.0)\n",
            "Requirement already satisfied: protobuf<6,>=3.20 in c:\\users\\muthukumar\\appdata\\local\\programs\\python\\python311\\lib\\site-packages (from streamlit) (5.29.3)\n",
            "Requirement already satisfied: pyarrow>=7.0 in c:\\users\\muthukumar\\appdata\\local\\programs\\python\\python311\\lib\\site-packages (from streamlit) (16.0.0)\n",
            "Requirement already satisfied: requests<3,>=2.27 in c:\\users\\muthukumar\\appdata\\local\\programs\\python\\python311\\lib\\site-packages (from streamlit) (2.31.0)\n",
            "Requirement already satisfied: rich<14,>=10.14.0 in c:\\users\\muthukumar\\appdata\\local\\programs\\python\\python311\\lib\\site-packages (from streamlit) (13.7.1)\n",
            "Collecting tenacity<10,>=8.1.0 (from streamlit)\n",
            "  Downloading tenacity-9.0.0-py3-none-any.whl.metadata (1.2 kB)\n",
            "Collecting toml<2,>=0.10.1 (from streamlit)\n",
            "  Downloading toml-0.10.2-py2.py3-none-any.whl.metadata (7.1 kB)\n",
            "Requirement already satisfied: typing-extensions<5,>=4.4.0 in c:\\users\\muthukumar\\appdata\\local\\programs\\python\\python311\\lib\\site-packages (from streamlit) (4.12.2)\n",
            "Collecting watchdog<7,>=2.1.5 (from streamlit)\n",
            "  Downloading watchdog-6.0.0-py3-none-win_amd64.whl.metadata (44 kB)\n",
            "Collecting gitpython!=3.1.19,<4,>=3.0.7 (from streamlit)\n",
            "  Downloading GitPython-3.1.44-py3-none-any.whl.metadata (13 kB)\n",
            "Collecting pydeck<1,>=0.8.0b4 (from streamlit)\n",
            "  Downloading pydeck-0.9.1-py2.py3-none-any.whl.metadata (4.1 kB)\n",
            "Requirement already satisfied: tornado<7,>=6.0.3 in c:\\users\\muthukumar\\appdata\\roaming\\python\\python311\\site-packages (from streamlit) (6.4.2)\n",
            "Requirement already satisfied: jinja2 in c:\\users\\muthukumar\\appdata\\local\\programs\\python\\python311\\lib\\site-packages (from altair<6,>=4.0->streamlit) (3.1.5)\n",
            "Collecting jsonschema>=3.0 (from altair<6,>=4.0->streamlit)\n",
            "  Using cached jsonschema-4.23.0-py3-none-any.whl.metadata (7.9 kB)\n",
            "Collecting narwhals>=1.14.2 (from altair<6,>=4.0->streamlit)\n",
            "  Downloading narwhals-1.26.0-py3-none-any.whl.metadata (10 kB)\n",
            "Requirement already satisfied: colorama in c:\\users\\muthukumar\\appdata\\local\\programs\\python\\python311\\lib\\site-packages (from click<9,>=7.0->streamlit) (0.4.6)\n",
            "Collecting gitdb<5,>=4.0.1 (from gitpython!=3.1.19,<4,>=3.0.7->streamlit)\n",
            "  Downloading gitdb-4.0.12-py3-none-any.whl.metadata (1.2 kB)\n",
            "Requirement already satisfied: python-dateutil>=2.8.2 in c:\\users\\muthukumar\\appdata\\local\\programs\\python\\python311\\lib\\site-packages (from pandas<3,>=1.4.0->streamlit) (2.9.0.post0)\n",
            "Requirement already satisfied: pytz>=2020.1 in c:\\users\\muthukumar\\appdata\\local\\programs\\python\\python311\\lib\\site-packages (from pandas<3,>=1.4.0->streamlit) (2024.1)\n",
            "Requirement already satisfied: tzdata>=2022.7 in c:\\users\\muthukumar\\appdata\\local\\programs\\python\\python311\\lib\\site-packages (from pandas<3,>=1.4.0->streamlit) (2024.1)\n",
            "Requirement already satisfied: charset-normalizer<4,>=2 in c:\\users\\muthukumar\\appdata\\local\\programs\\python\\python311\\lib\\site-packages (from requests<3,>=2.27->streamlit) (3.3.2)\n",
            "Requirement already satisfied: idna<4,>=2.5 in c:\\users\\muthukumar\\appdata\\local\\programs\\python\\python311\\lib\\site-packages (from requests<3,>=2.27->streamlit) (3.7)\n",
            "Requirement already satisfied: urllib3<3,>=1.21.1 in c:\\users\\muthukumar\\appdata\\local\\programs\\python\\python311\\lib\\site-packages (from requests<3,>=2.27->streamlit) (2.2.1)\n",
            "Requirement already satisfied: certifi>=2017.4.17 in c:\\users\\muthukumar\\appdata\\local\\programs\\python\\python311\\lib\\site-packages (from requests<3,>=2.27->streamlit) (2024.2.2)\n",
            "Requirement already satisfied: markdown-it-py>=2.2.0 in c:\\users\\muthukumar\\appdata\\local\\programs\\python\\python311\\lib\\site-packages (from rich<14,>=10.14.0->streamlit) (3.0.0)\n",
            "Requirement already satisfied: pygments<3.0.0,>=2.13.0 in c:\\users\\muthukumar\\appdata\\local\\programs\\python\\python311\\lib\\site-packages (from rich<14,>=10.14.0->streamlit) (2.17.2)\n",
            "Collecting smmap<6,>=3.0.1 (from gitdb<5,>=4.0.1->gitpython!=3.1.19,<4,>=3.0.7->streamlit)\n",
            "  Downloading smmap-5.0.2-py3-none-any.whl.metadata (4.3 kB)\n",
            "Requirement already satisfied: MarkupSafe>=2.0 in c:\\users\\muthukumar\\appdata\\local\\programs\\python\\python311\\lib\\site-packages (from jinja2->altair<6,>=4.0->streamlit) (2.1.5)\n",
            "Requirement already satisfied: attrs>=22.2.0 in c:\\users\\muthukumar\\appdata\\local\\programs\\python\\python311\\lib\\site-packages (from jsonschema>=3.0->altair<6,>=4.0->streamlit) (23.2.0)\n",
            "Collecting jsonschema-specifications>=2023.03.6 (from jsonschema>=3.0->altair<6,>=4.0->streamlit)\n",
            "  Using cached jsonschema_specifications-2024.10.1-py3-none-any.whl.metadata (3.0 kB)\n",
            "Collecting referencing>=0.28.4 (from jsonschema>=3.0->altair<6,>=4.0->streamlit)\n",
            "  Downloading referencing-0.36.2-py3-none-any.whl.metadata (2.8 kB)\n",
            "Collecting rpds-py>=0.7.1 (from jsonschema>=3.0->altair<6,>=4.0->streamlit)\n",
            "  Using cached rpds_py-0.22.3-cp311-cp311-win_amd64.whl.metadata (4.2 kB)\n",
            "Requirement already satisfied: mdurl~=0.1 in c:\\users\\muthukumar\\appdata\\local\\programs\\python\\python311\\lib\\site-packages (from markdown-it-py>=2.2.0->rich<14,>=10.14.0->streamlit) (0.1.2)\n",
            "Requirement already satisfied: six>=1.5 in c:\\users\\muthukumar\\appdata\\local\\programs\\python\\python311\\lib\\site-packages (from python-dateutil>=2.8.2->pandas<3,>=1.4.0->streamlit) (1.16.0)\n",
            "Downloading streamlit-1.42.0-py2.py3-none-any.whl (9.6 MB)\n",
            "   ---------------------------------------- 0.0/9.6 MB ? eta -:--:--\n",
            "   --- ------------------------------------ 0.8/9.6 MB 5.6 MB/s eta 0:00:02\n",
            "   --------------- ------------------------ 3.7/9.6 MB 10.9 MB/s eta 0:00:01\n",
            "   ---------------------------- ----------- 6.8/9.6 MB 13.1 MB/s eta 0:00:01\n",
            "   ---------------------------------------- 9.6/9.6 MB 13.5 MB/s eta 0:00:00\n",
            "Downloading altair-5.5.0-py3-none-any.whl (731 kB)\n",
            "   ---------------------------------------- 0.0/731.2 kB ? eta -:--:--\n",
            "   --------------------------------------- 731.2/731.2 kB 14.7 MB/s eta 0:00:00\n",
            "Downloading GitPython-3.1.44-py3-none-any.whl (207 kB)\n",
            "Downloading pydeck-0.9.1-py2.py3-none-any.whl (6.9 MB)\n",
            "   ---------------------------------------- 0.0/6.9 MB ? eta -:--:--\n",
            "   ------------------------ --------------- 4.2/6.9 MB 22.9 MB/s eta 0:00:01\n",
            "   ---------------------------------------  6.8/6.9 MB 19.1 MB/s eta 0:00:01\n",
            "   ---------------------------------------- 6.9/6.9 MB 17.0 MB/s eta 0:00:00\n",
            "Downloading tenacity-9.0.0-py3-none-any.whl (28 kB)\n",
            "Downloading toml-0.10.2-py2.py3-none-any.whl (16 kB)\n",
            "Downloading watchdog-6.0.0-py3-none-win_amd64.whl (79 kB)\n",
            "Downloading gitdb-4.0.12-py3-none-any.whl (62 kB)\n",
            "Using cached jsonschema-4.23.0-py3-none-any.whl (88 kB)\n",
            "Downloading narwhals-1.26.0-py3-none-any.whl (306 kB)\n",
            "Using cached jsonschema_specifications-2024.10.1-py3-none-any.whl (18 kB)\n",
            "Downloading referencing-0.36.2-py3-none-any.whl (26 kB)\n",
            "Using cached rpds_py-0.22.3-cp311-cp311-win_amd64.whl (231 kB)\n",
            "Downloading smmap-5.0.2-py3-none-any.whl (24 kB)\n",
            "Installing collected packages: watchdog, toml, tenacity, smmap, rpds-py, narwhals, referencing, pydeck, gitdb, jsonschema-specifications, gitpython, jsonschema, altair, streamlit\n",
            "Successfully installed altair-5.5.0 gitdb-4.0.12 gitpython-3.1.44 jsonschema-4.23.0 jsonschema-specifications-2024.10.1 narwhals-1.26.0 pydeck-0.9.1 referencing-0.36.2 rpds-py-0.22.3 smmap-5.0.2 streamlit-1.42.0 tenacity-9.0.0 toml-0.10.2 watchdog-6.0.0\n",
            "Note: you may need to restart the kernel to use updated packages.\n"
          ]
        },
        {
          "name": "stderr",
          "output_type": "stream",
          "text": [
            "\n",
            "[notice] A new release of pip is available: 24.3.1 -> 25.0\n",
            "[notice] To update, run: python.exe -m pip install --upgrade pip\n"
          ]
        }
      ],
      "source": [
        "pip install streamlit"
      ]
    },
    {
      "cell_type": "code",
      "execution_count": 3,
      "metadata": {
        "id": "9mDydX8llnuo"
      },
      "outputs": [],
      "source": [
        "import streamlit as st\n",
        "import pickle\n",
        "import numpy as np"
      ]
    },
    {
      "cell_type": "code",
      "execution_count": 4,
      "metadata": {
        "id": "I58JSnPglti0"
      },
      "outputs": [],
      "source": [
        "diabetes_model = pickle.load(open(\"diabetes_prediction_model.pkl\", \"rb\"))\n",
        "heart_model = pickle.load(open(\"heart_disease_model.pkl\", \"rb\"))\n",
        "parkinsons_model = pickle.load(open(\"parkinsons_model.pkl\", \"rb\"))"
      ]
    },
    {
      "cell_type": "code",
      "execution_count": 5,
      "metadata": {
        "id": "D2WCtY5qlwny"
      },
      "outputs": [
        {
          "name": "stderr",
          "output_type": "stream",
          "text": [
            "2025-02-11 16:10:28.775 WARNING streamlit.runtime.scriptrunner_utils.script_run_context: Thread 'MainThread': missing ScriptRunContext! This warning can be ignored when running in bare mode.\n",
            "2025-02-11 16:10:29.173 \n",
            "  \u001b[33m\u001b[1mWarning:\u001b[0m to view this Streamlit app on a browser, run it with the following\n",
            "  command:\n",
            "\n",
            "    streamlit run C:\\Users\\Muthukumar\\AppData\\Roaming\\Python\\Python311\\site-packages\\ipykernel_launcher.py [ARGUMENTS]\n",
            "2025-02-11 16:10:29.174 Thread 'MainThread': missing ScriptRunContext! This warning can be ignored when running in bare mode.\n",
            "2025-02-11 16:10:29.175 Thread 'MainThread': missing ScriptRunContext! This warning can be ignored when running in bare mode.\n",
            "2025-02-11 16:10:29.175 Thread 'MainThread': missing ScriptRunContext! This warning can be ignored when running in bare mode.\n",
            "2025-02-11 16:10:29.176 Thread 'MainThread': missing ScriptRunContext! This warning can be ignored when running in bare mode.\n",
            "2025-02-11 16:10:29.176 Thread 'MainThread': missing ScriptRunContext! This warning can be ignored when running in bare mode.\n",
            "2025-02-11 16:10:29.176 Session state does not function when running a script without `streamlit run`\n",
            "2025-02-11 16:10:29.177 Thread 'MainThread': missing ScriptRunContext! This warning can be ignored when running in bare mode.\n",
            "2025-02-11 16:10:29.177 Thread 'MainThread': missing ScriptRunContext! This warning can be ignored when running in bare mode.\n"
          ]
        }
      ],
      "source": [
        "st.title(\"Health Prediction System\")\n",
        "disease = st.sidebar.selectbox(\"Select Disease to Predict\", [\"Diabetes\", \"Heart Disease\", \"Parkinson's Disease\"])"
      ]
    },
    {
      "cell_type": "code",
      "execution_count": 6,
      "metadata": {
        "id": "9Ua01_8LllHr"
      },
      "outputs": [
        {
          "name": "stderr",
          "output_type": "stream",
          "text": [
            "2025-02-11 16:10:37.726 Thread 'MainThread': missing ScriptRunContext! This warning can be ignored when running in bare mode.\n",
            "2025-02-11 16:10:37.727 Thread 'MainThread': missing ScriptRunContext! This warning can be ignored when running in bare mode.\n",
            "2025-02-11 16:10:37.728 Thread 'MainThread': missing ScriptRunContext! This warning can be ignored when running in bare mode.\n",
            "2025-02-11 16:10:37.728 Thread 'MainThread': missing ScriptRunContext! This warning can be ignored when running in bare mode.\n",
            "2025-02-11 16:10:37.729 Thread 'MainThread': missing ScriptRunContext! This warning can be ignored when running in bare mode.\n",
            "2025-02-11 16:10:37.729 Thread 'MainThread': missing ScriptRunContext! This warning can be ignored when running in bare mode.\n",
            "2025-02-11 16:10:37.730 Thread 'MainThread': missing ScriptRunContext! This warning can be ignored when running in bare mode.\n",
            "2025-02-11 16:10:37.730 Thread 'MainThread': missing ScriptRunContext! This warning can be ignored when running in bare mode.\n",
            "2025-02-11 16:10:37.730 Thread 'MainThread': missing ScriptRunContext! This warning can be ignored when running in bare mode.\n",
            "2025-02-11 16:10:37.730 Thread 'MainThread': missing ScriptRunContext! This warning can be ignored when running in bare mode.\n",
            "2025-02-11 16:10:37.731 Thread 'MainThread': missing ScriptRunContext! This warning can be ignored when running in bare mode.\n",
            "2025-02-11 16:10:37.731 Thread 'MainThread': missing ScriptRunContext! This warning can be ignored when running in bare mode.\n",
            "2025-02-11 16:10:37.731 Thread 'MainThread': missing ScriptRunContext! This warning can be ignored when running in bare mode.\n",
            "2025-02-11 16:10:37.733 Thread 'MainThread': missing ScriptRunContext! This warning can be ignored when running in bare mode.\n",
            "2025-02-11 16:10:37.733 Thread 'MainThread': missing ScriptRunContext! This warning can be ignored when running in bare mode.\n",
            "2025-02-11 16:10:37.734 Thread 'MainThread': missing ScriptRunContext! This warning can be ignored when running in bare mode.\n",
            "2025-02-11 16:10:37.734 Thread 'MainThread': missing ScriptRunContext! This warning can be ignored when running in bare mode.\n",
            "2025-02-11 16:10:37.735 Thread 'MainThread': missing ScriptRunContext! This warning can be ignored when running in bare mode.\n",
            "2025-02-11 16:10:37.735 Thread 'MainThread': missing ScriptRunContext! This warning can be ignored when running in bare mode.\n",
            "2025-02-11 16:10:37.735 Thread 'MainThread': missing ScriptRunContext! This warning can be ignored when running in bare mode.\n",
            "2025-02-11 16:10:37.736 Thread 'MainThread': missing ScriptRunContext! This warning can be ignored when running in bare mode.\n",
            "2025-02-11 16:10:37.736 Thread 'MainThread': missing ScriptRunContext! This warning can be ignored when running in bare mode.\n",
            "2025-02-11 16:10:37.737 Thread 'MainThread': missing ScriptRunContext! This warning can be ignored when running in bare mode.\n",
            "2025-02-11 16:10:37.737 Thread 'MainThread': missing ScriptRunContext! This warning can be ignored when running in bare mode.\n",
            "2025-02-11 16:10:37.737 Thread 'MainThread': missing ScriptRunContext! This warning can be ignored when running in bare mode.\n",
            "2025-02-11 16:10:37.737 Thread 'MainThread': missing ScriptRunContext! This warning can be ignored when running in bare mode.\n",
            "2025-02-11 16:10:37.738 Thread 'MainThread': missing ScriptRunContext! This warning can be ignored when running in bare mode.\n",
            "2025-02-11 16:10:37.738 Thread 'MainThread': missing ScriptRunContext! This warning can be ignored when running in bare mode.\n",
            "2025-02-11 16:10:37.739 Thread 'MainThread': missing ScriptRunContext! This warning can be ignored when running in bare mode.\n",
            "2025-02-11 16:10:37.739 Thread 'MainThread': missing ScriptRunContext! This warning can be ignored when running in bare mode.\n",
            "2025-02-11 16:10:37.739 Thread 'MainThread': missing ScriptRunContext! This warning can be ignored when running in bare mode.\n",
            "2025-02-11 16:10:37.741 Thread 'MainThread': missing ScriptRunContext! This warning can be ignored when running in bare mode.\n",
            "2025-02-11 16:10:37.742 Thread 'MainThread': missing ScriptRunContext! This warning can be ignored when running in bare mode.\n",
            "2025-02-11 16:10:37.742 Thread 'MainThread': missing ScriptRunContext! This warning can be ignored when running in bare mode.\n",
            "2025-02-11 16:10:37.743 Thread 'MainThread': missing ScriptRunContext! This warning can be ignored when running in bare mode.\n",
            "2025-02-11 16:10:37.743 Thread 'MainThread': missing ScriptRunContext! This warning can be ignored when running in bare mode.\n",
            "2025-02-11 16:10:37.743 Thread 'MainThread': missing ScriptRunContext! This warning can be ignored when running in bare mode.\n",
            "2025-02-11 16:10:37.745 Thread 'MainThread': missing ScriptRunContext! This warning can be ignored when running in bare mode.\n",
            "2025-02-11 16:10:37.745 Thread 'MainThread': missing ScriptRunContext! This warning can be ignored when running in bare mode.\n",
            "2025-02-11 16:10:37.745 Thread 'MainThread': missing ScriptRunContext! This warning can be ignored when running in bare mode.\n",
            "2025-02-11 16:10:37.746 Thread 'MainThread': missing ScriptRunContext! This warning can be ignored when running in bare mode.\n",
            "2025-02-11 16:10:37.746 Thread 'MainThread': missing ScriptRunContext! This warning can be ignored when running in bare mode.\n",
            "2025-02-11 16:10:37.746 Thread 'MainThread': missing ScriptRunContext! This warning can be ignored when running in bare mode.\n",
            "2025-02-11 16:10:37.748 Thread 'MainThread': missing ScriptRunContext! This warning can be ignored when running in bare mode.\n",
            "2025-02-11 16:10:37.748 Thread 'MainThread': missing ScriptRunContext! This warning can be ignored when running in bare mode.\n",
            "2025-02-11 16:10:37.748 Thread 'MainThread': missing ScriptRunContext! This warning can be ignored when running in bare mode.\n",
            "2025-02-11 16:10:37.749 Thread 'MainThread': missing ScriptRunContext! This warning can be ignored when running in bare mode.\n",
            "2025-02-11 16:10:37.749 Thread 'MainThread': missing ScriptRunContext! This warning can be ignored when running in bare mode.\n",
            "2025-02-11 16:10:37.750 Thread 'MainThread': missing ScriptRunContext! This warning can be ignored when running in bare mode.\n",
            "2025-02-11 16:10:37.751 Thread 'MainThread': missing ScriptRunContext! This warning can be ignored when running in bare mode.\n",
            "2025-02-11 16:10:37.752 Thread 'MainThread': missing ScriptRunContext! This warning can be ignored when running in bare mode.\n",
            "2025-02-11 16:10:37.752 Thread 'MainThread': missing ScriptRunContext! This warning can be ignored when running in bare mode.\n",
            "2025-02-11 16:10:37.752 Thread 'MainThread': missing ScriptRunContext! This warning can be ignored when running in bare mode.\n",
            "2025-02-11 16:10:37.753 Thread 'MainThread': missing ScriptRunContext! This warning can be ignored when running in bare mode.\n",
            "2025-02-11 16:10:37.754 Thread 'MainThread': missing ScriptRunContext! This warning can be ignored when running in bare mode.\n"
          ]
        }
      ],
      "source": [
        "if disease == \"Diabetes\":\n",
        "    st.subheader(\"Diabetes Prediction\")\n",
        "    pregnancies = st.number_input(\"Pregnancies\", min_value=0, max_value=20, step=1)\n",
        "    glucose = st.number_input(\"Glucose Level\", min_value=0, max_value=200, step=1)\n",
        "    blood_pressure = st.number_input(\"Blood Pressure\", min_value=0, max_value=150, step=1)\n",
        "    skin_thickness = st.number_input(\"Skin Thickness\", min_value=0, max_value=100, step=1)\n",
        "    insulin = st.number_input(\"Insulin\", min_value=0, max_value=900, step=1)\n",
        "    bmi = st.number_input(\"BMI\", min_value=0.0, max_value=50.0, step=0.1)\n",
        "    dpf = st.number_input(\"Diabetes Pedigree Function\", min_value=0.0, max_value=2.5, step=0.01)\n",
        "    age = st.number_input(\"Age\", min_value=1, max_value=120, step=1)\n",
        "\n",
        "    if st.button(\"Predict\"):\n",
        "        input_data = np.array([[pregnancies, glucose, blood_pressure, skin_thickness, insulin, bmi, dpf, age]])\n",
        "        prediction = diabetes_model.predict(input_data)\n",
        "        st.success(\"Diabetes Detected\" if prediction[0] == 1 else \"No Diabetes Detected\")\n",
        "\n",
        "elif disease == \"Heart Disease\":\n",
        "    st.subheader(\"Heart Disease Prediction\")\n",
        "    age = st.number_input(\"Age\", min_value=1, max_value=120, step=1)\n",
        "    sex = st.selectbox(\"Sex\", [\"Male\", \"Female\"])\n",
        "    cp = st.number_input(\"Chest Pain Type\", min_value=0, max_value=3, step=1)\n",
        "    trestbps = st.number_input(\"Resting Blood Pressure\", min_value=50, max_value=200, step=1)\n",
        "    chol = st.number_input(\"Cholesterol\", min_value=100, max_value=600, step=1)\n",
        "    fbs = st.selectbox(\"Fasting Blood Sugar > 120 mg/dl\", [0, 1])\n",
        "    restecg = st.selectbox(\"Resting ECG\", [0, 1, 2])\n",
        "    thalach = st.number_input(\"Max Heart Rate\", min_value=60, max_value=220, step=1)\n",
        "    exang = st.selectbox(\"Exercise-Induced Angina\", [0, 1])\n",
        "    oldpeak = st.number_input(\"ST Depression\", min_value=0.0, max_value=10.0, step=0.1)\n",
        "    slope = st.number_input(\"Slope\", min_value=0, max_value=2, step=1)\n",
        "    ca = st.number_input(\"Major Vessels Colored\", min_value=0, max_value=4, step=1)\n",
        "    thal = st.number_input(\"Thalassemia\", min_value=0, max_value=3, step=1)\n",
        "\n",
        "    if st.button(\"Predict\"):\n",
        "        input_data = np.array([[age, 1 if sex == \"Male\" else 0, cp, trestbps, chol, fbs, restecg, thalach, exang, oldpeak, slope, ca, thal]])\n",
        "        prediction = heart_model.predict(input_data)\n",
        "        st.success(\"Heart Disease Detected\" if prediction[0] == 1 else \"No Heart Disease Detected\")\n",
        "\n",
        "elif disease == \"Parkinson's Disease\":\n",
        "    st.subheader(\"Parkinson's Disease Prediction\")\n",
        "    fo = st.number_input(\"MDVP:Fo(Hz)\")\n",
        "    fhi = st.number_input(\"MDVP:Fhi(Hz)\")\n",
        "    flo = st.number_input(\"MDVP:Flo(Hz)\")\n",
        "    jitter = st.number_input(\"MDVP:Jitter(%)\")\n",
        "    shimmer = st.number_input(\"MDVP:Shimmer\")\n",
        "    nhr = st.number_input(\"NHR\")\n",
        "    hnr = st.number_input(\"HNR\")\n",
        "    rpde = st.number_input(\"RPDE\")\n",
        "    dfa = st.number_input(\"DFA\")\n",
        "    spread1 = st.number_input(\"Spread1\")\n",
        "    spread2 = st.number_input(\"Spread2\")\n",
        "    d2 = st.number_input(\"D2\")\n",
        "    ppe = st.number_input(\"PPE\")\n",
        "\n",
        "    if st.button(\"Predict\"):\n",
        "        input_data = np.array([[fo, fhi, flo, jitter, shimmer, nhr, hnr, rpde, dfa, spread1, spread2, d2, ppe]])\n",
        "        prediction = parkinsons_model.predict(input_data)\n",
        "        st.success(\"Parkinson's Disease Detected\" if prediction[0] == 1 else \"No Parkinson's Disease Detected\")\n"
      ]
    },
    {
      "cell_type": "code",
      "execution_count": null,
      "metadata": {},
      "outputs": [],
      "source": []
    }
  ],
  "metadata": {
    "colab": {
      "provenance": []
    },
    "kernelspec": {
      "display_name": "Python 3",
      "name": "python3"
    },
    "language_info": {
      "codemirror_mode": {
        "name": "ipython",
        "version": 3
      },
      "file_extension": ".py",
      "mimetype": "text/x-python",
      "name": "python",
      "nbconvert_exporter": "python",
      "pygments_lexer": "ipython3",
      "version": "3.11.8"
    }
  },
  "nbformat": 4,
  "nbformat_minor": 0
}
